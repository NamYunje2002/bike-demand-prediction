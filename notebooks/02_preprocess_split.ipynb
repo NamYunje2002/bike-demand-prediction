{
 "cells": [
  {
   "cell_type": "markdown",
   "id": "2ff2e97b",
   "metadata": {},
   "source": [
    "#### 전처리 & 저장"
   ]
  },
  {
   "cell_type": "code",
   "execution_count": 1,
   "id": "486980b8",
   "metadata": {},
   "outputs": [
    {
     "name": "stdout",
     "output_type": "stream",
     "text": [
      "<bound method NDFrame.head of       Rented_Bike_Count  Hour  Temperature°C  Humidity%  Wind_speed_m_s  \\\n",
      "0                   254     0           -5.2         37             2.2   \n",
      "1                   204     1           -5.5         38             0.8   \n",
      "2                   173     2           -6.0         39             1.0   \n",
      "3                   107     3           -6.2         40             0.9   \n",
      "4                    78     4           -6.0         36             2.3   \n",
      "...                 ...   ...            ...        ...             ...   \n",
      "8755               1003    19            4.2         34             2.6   \n",
      "8756                764    20            3.4         37             2.3   \n",
      "8757                694    21            2.6         39             0.3   \n",
      "8758                712    22            2.1         41             1.0   \n",
      "8759                584    23            1.9         43             1.3   \n",
      "\n",
      "      Visibility_10m  Dew_point_temperature°C  Solar_Radiation_MJ_m2  \\\n",
      "0               2000                    -17.6                    0.0   \n",
      "1               2000                    -17.6                    0.0   \n",
      "2               2000                    -17.7                    0.0   \n",
      "3               2000                    -17.6                    0.0   \n",
      "4               2000                    -18.6                    0.0   \n",
      "...              ...                      ...                    ...   \n",
      "8755            1894                    -10.3                    0.0   \n",
      "8756            2000                     -9.9                    0.0   \n",
      "8757            1968                     -9.9                    0.0   \n",
      "8758            1859                     -9.8                    0.0   \n",
      "8759            1909                     -9.3                    0.0   \n",
      "\n",
      "      Rainfallmm  Snowfall_cm  Seasons  Holiday  month  weekday  hour_sin  \\\n",
      "0            0.0          0.0        3        0     12        4  0.000000   \n",
      "1            0.0          0.0        3        0     12        4  0.258819   \n",
      "2            0.0          0.0        3        0     12        4  0.500000   \n",
      "3            0.0          0.0        3        0     12        4  0.707107   \n",
      "4            0.0          0.0        3        0     12        4  0.866025   \n",
      "...          ...          ...      ...      ...    ...      ...       ...   \n",
      "8755         0.0          0.0        2        0     11        4 -0.965926   \n",
      "8756         0.0          0.0        2        0     11        4 -0.866025   \n",
      "8757         0.0          0.0        2        0     11        4 -0.707107   \n",
      "8758         0.0          0.0        2        0     11        4 -0.500000   \n",
      "8759         0.0          0.0        2        0     11        4 -0.258819   \n",
      "\n",
      "      hour_cos  \n",
      "0     1.000000  \n",
      "1     0.965926  \n",
      "2     0.866025  \n",
      "3     0.707107  \n",
      "4     0.500000  \n",
      "...        ...  \n",
      "8755  0.258819  \n",
      "8756  0.500000  \n",
      "8757  0.707107  \n",
      "8758  0.866025  \n",
      "8759  0.965926  \n",
      "\n",
      "[8760 rows x 16 columns]>\n"
     ]
    }
   ],
   "source": [
    "import sys\n",
    "import os\n",
    "sys.path.append(os.path.abspath(os.path.join(os.getcwd(), \"../src\")))\n",
    "\n",
    "from preprocess import load_and_preprocess\n",
    "\n",
    "df = load_and_preprocess(\"../data/raw/SeoulBikeData.csv\")\n",
    "df.to_csv(\"../data/processed/seoul_bike_data_clean.csv\", index=False)\n",
    "print(df.head)"
   ]
  },
  {
   "cell_type": "markdown",
   "id": "f1981a3b",
   "metadata": {},
   "source": [
    "#### 분할(Train / Validation / Test) & 저장"
   ]
  },
  {
   "cell_type": "code",
   "execution_count": 2,
   "id": "51daabd9",
   "metadata": {},
   "outputs": [],
   "source": [
    "from split import split_data\n",
    "\n",
    "train_df, val_df, test_df = split_data(df)\n",
    "\n",
    "train_df.to_csv(\"../data/processed/train.csv\", index=False)\n",
    "val_df.to_csv(\"../data/processed/val.csv\", index=False)\n",
    "test_df.to_csv(\"../data/processed/test.csv\", index=False)"
   ]
  }
 ],
 "metadata": {
  "kernelspec": {
   "display_name": "venv",
   "language": "python",
   "name": "python3"
  },
  "language_info": {
   "codemirror_mode": {
    "name": "ipython",
    "version": 3
   },
   "file_extension": ".py",
   "mimetype": "text/x-python",
   "name": "python",
   "nbconvert_exporter": "python",
   "pygments_lexer": "ipython3",
   "version": "3.12.6"
  }
 },
 "nbformat": 4,
 "nbformat_minor": 5
}
