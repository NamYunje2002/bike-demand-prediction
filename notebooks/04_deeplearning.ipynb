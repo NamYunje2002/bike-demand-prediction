{
 "cells": [
  {
   "cell_type": "markdown",
   "id": "d846f26c",
   "metadata": {},
   "source": [
    "#### 딥러닝 MLP"
   ]
  },
  {
   "cell_type": "code",
   "execution_count": null,
   "id": "1a85e41b",
   "metadata": {},
   "outputs": [],
   "source": [
    "import joblib\n",
    "import pandas as pd\n",
    "import torch\n",
    "from train import train_model\n",
    "\n",
    "# 1. 입력 특성 수 계산\n",
    "X_train = pd.read_csv(\"../data/processed/train.csv\").drop(columns=[\"Rented_Bike_Count\"])\n",
    "input_dim = X_train.shape[1]\n",
    "\n",
    "# 2. 디바이스 설정\n",
    "device = torch.device(\"cuda\" if torch.cuda.is_available() else \"cpu\")\n",
    "\n",
    "# 3. 모델 학습 + 스케일러 저장됨\n",
    "model = train_model(\n",
    "    train_path=\"../data/processed/train.csv\",\n",
    "    val_path=\"../data/processed/val.csv\",\n",
    "    input_dim=input_dim,\n",
    "    epochs=200,\n",
    "    patience=10,\n",
    "    device=device\n",
    ")\n",
    "\n",
    "# 4. 저장된 스케일러 로드\n",
    "scaler = joblib.load(\"../models/input_scaler.pkl\")\n",
    "\n",
    "# 5. 테스트셋 로드 및 정규화\n",
    "df_test = pd.read_csv(\"../data/processed/test.csv\")\n",
    "X_test = scaler.transform(df_test.drop(columns=[\"Rented_Bike_Count\"]).values)\n",
    "y_test = df_test[\"Rented_Bike_Count\"].values.reshape(-1, 1)\n",
    "\n",
    "# 6. 평가 (정규화된 X_test 사용)\n",
    "import numpy as np\n",
    "from sklearn.metrics import mean_squared_error\n",
    "import matplotlib.pyplot as plt\n",
    "\n",
    "model.eval()\n",
    "with torch.no_grad():\n",
    "    X_tensor = torch.tensor(X_test.astype(np.float32)).to(device)\n",
    "    preds = model(X_tensor).cpu().numpy()\n",
    "\n",
    "# 7. 평가 결과 출력 및 저장\n",
    "results.append(print_mse(\"MLP (PyTorch)\", mean_squared_error(y_test, preds)))\n",
    "\n",
    "# 8. 시각화\n",
    "plt.figure(figsize=(8, 6))\n",
    "plt.scatter(y_test, preds, alpha=0.5)\n",
    "plt.plot([y_test.min(), y_test.max()], [y_test.min(), y_test.max()], 'r--')\n",
    "plt.xlabel(\"True Count\")\n",
    "plt.ylabel(\"Predicted Count\")\n",
    "plt.title(\"True vs Predicted (Scaled Input)\")\n",
    "plt.show()"
   ]
  }
 ],
 "metadata": {
  "language_info": {
   "name": "python"
  }
 },
 "nbformat": 4,
 "nbformat_minor": 5
}
